{
 "cells": [
  {
   "cell_type": "code",
   "execution_count": 1,
   "metadata": {},
   "outputs": [
    {
     "name": "stderr",
     "output_type": "stream",
     "text": [
      "Using TensorFlow backend.\n"
     ]
    }
   ],
   "source": [
    "import os\n",
    "import random\n",
    "import pyreadr\n",
    "\n",
    "import numpy as np\n",
    "import pandas as pd\n",
    "\n",
    "from sklearn import preprocessing\n",
    "from sklearn.linear_model import LinearRegression\n",
    "from sklearn.model_selection import GridSearchCV\n",
    "from sklearn.neighbors import KNeighborsRegressor\n",
    "\n",
    "import keras\n",
    "from keras.models import Sequential\n",
    "from keras.optimizers import SGD\n",
    "from keras.layers import Dense, LSTM, TimeDistributed, Dropout, Conv1D, MaxPooling1D, Flatten, RepeatVector\n",
    "from keras.callbacks import EarlyStopping\n",
    "import tensorflow as tf\n",
    "\n",
    "import dues_utilities as utils"
   ]
  },
  {
   "cell_type": "code",
   "execution_count": 2,
   "metadata": {},
   "outputs": [
    {
     "ename": "KeyboardInterrupt",
     "evalue": "",
     "output_type": "error",
     "traceback": [
      "\u001b[1;31m---------------------------------------------------------------------------\u001b[0m",
      "\u001b[1;31mKeyboardInterrupt\u001b[0m                         Traceback (most recent call last)",
      "\u001b[1;32m<ipython-input-2-0f464713cab5>\u001b[0m in \u001b[0;36m<module>\u001b[1;34m\u001b[0m\n\u001b[0;32m     20\u001b[0m }\n\u001b[0;32m     21\u001b[0m \u001b[1;33m\u001b[0m\u001b[0m\n\u001b[1;32m---> 22\u001b[1;33m \u001b[0menergy_featurized\u001b[0m \u001b[1;33m=\u001b[0m \u001b[0mpd\u001b[0m\u001b[1;33m.\u001b[0m\u001b[0mread_csv\u001b[0m\u001b[1;33m(\u001b[0m\u001b[0mPATH_ENERGY_FEATURIZED\u001b[0m\u001b[1;33m,\u001b[0m \u001b[0mdtype\u001b[0m\u001b[1;33m=\u001b[0m\u001b[0mnp\u001b[0m\u001b[1;33m.\u001b[0m\u001b[0mfloat32\u001b[0m\u001b[1;33m)\u001b[0m\u001b[1;33m\u001b[0m\u001b[1;33m\u001b[0m\u001b[0m\n\u001b[0m\u001b[0;32m     23\u001b[0m \u001b[0mdist\u001b[0m \u001b[1;33m=\u001b[0m \u001b[0mpd\u001b[0m\u001b[1;33m.\u001b[0m\u001b[0mread_csv\u001b[0m\u001b[1;33m(\u001b[0m\u001b[0mPATH_DISTANCES\u001b[0m\u001b[1;33m,\u001b[0m \u001b[0mdtype\u001b[0m\u001b[1;33m=\u001b[0m\u001b[0mstr\u001b[0m\u001b[1;33m)\u001b[0m\u001b[1;33m\u001b[0m\u001b[1;33m\u001b[0m\u001b[0m\n\u001b[0;32m     24\u001b[0m \u001b[0menergy_actual\u001b[0m \u001b[1;33m=\u001b[0m \u001b[0mpd\u001b[0m\u001b[1;33m.\u001b[0m\u001b[0mread_csv\u001b[0m\u001b[1;33m(\u001b[0m\u001b[0mPATH_ENERGY_ACTUAL\u001b[0m\u001b[1;33m,\u001b[0m \u001b[0mdtype\u001b[0m\u001b[1;33m=\u001b[0m\u001b[0menergy_dtype\u001b[0m\u001b[1;33m)\u001b[0m\u001b[1;33m\u001b[0m\u001b[1;33m\u001b[0m\u001b[0m\n",
      "\u001b[1;32m~\\.conda\\envs\\test\\lib\\site-packages\\pandas\\io\\parsers.py\u001b[0m in \u001b[0;36mparser_f\u001b[1;34m(filepath_or_buffer, sep, delimiter, header, names, index_col, usecols, squeeze, prefix, mangle_dupe_cols, dtype, engine, converters, true_values, false_values, skipinitialspace, skiprows, skipfooter, nrows, na_values, keep_default_na, na_filter, verbose, skip_blank_lines, parse_dates, infer_datetime_format, keep_date_col, date_parser, dayfirst, cache_dates, iterator, chunksize, compression, thousands, decimal, lineterminator, quotechar, quoting, doublequote, escapechar, comment, encoding, dialect, error_bad_lines, warn_bad_lines, delim_whitespace, low_memory, memory_map, float_precision)\u001b[0m\n\u001b[0;32m    674\u001b[0m         )\n\u001b[0;32m    675\u001b[0m \u001b[1;33m\u001b[0m\u001b[0m\n\u001b[1;32m--> 676\u001b[1;33m         \u001b[1;32mreturn\u001b[0m \u001b[0m_read\u001b[0m\u001b[1;33m(\u001b[0m\u001b[0mfilepath_or_buffer\u001b[0m\u001b[1;33m,\u001b[0m \u001b[0mkwds\u001b[0m\u001b[1;33m)\u001b[0m\u001b[1;33m\u001b[0m\u001b[1;33m\u001b[0m\u001b[0m\n\u001b[0m\u001b[0;32m    677\u001b[0m \u001b[1;33m\u001b[0m\u001b[0m\n\u001b[0;32m    678\u001b[0m     \u001b[0mparser_f\u001b[0m\u001b[1;33m.\u001b[0m\u001b[0m__name__\u001b[0m \u001b[1;33m=\u001b[0m \u001b[0mname\u001b[0m\u001b[1;33m\u001b[0m\u001b[1;33m\u001b[0m\u001b[0m\n",
      "\u001b[1;32m~\\.conda\\envs\\test\\lib\\site-packages\\pandas\\io\\parsers.py\u001b[0m in \u001b[0;36m_read\u001b[1;34m(filepath_or_buffer, kwds)\u001b[0m\n\u001b[0;32m    452\u001b[0m \u001b[1;33m\u001b[0m\u001b[0m\n\u001b[0;32m    453\u001b[0m     \u001b[1;32mtry\u001b[0m\u001b[1;33m:\u001b[0m\u001b[1;33m\u001b[0m\u001b[1;33m\u001b[0m\u001b[0m\n\u001b[1;32m--> 454\u001b[1;33m         \u001b[0mdata\u001b[0m \u001b[1;33m=\u001b[0m \u001b[0mparser\u001b[0m\u001b[1;33m.\u001b[0m\u001b[0mread\u001b[0m\u001b[1;33m(\u001b[0m\u001b[0mnrows\u001b[0m\u001b[1;33m)\u001b[0m\u001b[1;33m\u001b[0m\u001b[1;33m\u001b[0m\u001b[0m\n\u001b[0m\u001b[0;32m    455\u001b[0m     \u001b[1;32mfinally\u001b[0m\u001b[1;33m:\u001b[0m\u001b[1;33m\u001b[0m\u001b[1;33m\u001b[0m\u001b[0m\n\u001b[0;32m    456\u001b[0m         \u001b[0mparser\u001b[0m\u001b[1;33m.\u001b[0m\u001b[0mclose\u001b[0m\u001b[1;33m(\u001b[0m\u001b[1;33m)\u001b[0m\u001b[1;33m\u001b[0m\u001b[1;33m\u001b[0m\u001b[0m\n",
      "\u001b[1;32m~\\.conda\\envs\\test\\lib\\site-packages\\pandas\\io\\parsers.py\u001b[0m in \u001b[0;36mread\u001b[1;34m(self, nrows)\u001b[0m\n\u001b[0;32m   1131\u001b[0m     \u001b[1;32mdef\u001b[0m \u001b[0mread\u001b[0m\u001b[1;33m(\u001b[0m\u001b[0mself\u001b[0m\u001b[1;33m,\u001b[0m \u001b[0mnrows\u001b[0m\u001b[1;33m=\u001b[0m\u001b[1;32mNone\u001b[0m\u001b[1;33m)\u001b[0m\u001b[1;33m:\u001b[0m\u001b[1;33m\u001b[0m\u001b[1;33m\u001b[0m\u001b[0m\n\u001b[0;32m   1132\u001b[0m         \u001b[0mnrows\u001b[0m \u001b[1;33m=\u001b[0m \u001b[0m_validate_integer\u001b[0m\u001b[1;33m(\u001b[0m\u001b[1;34m\"nrows\"\u001b[0m\u001b[1;33m,\u001b[0m \u001b[0mnrows\u001b[0m\u001b[1;33m)\u001b[0m\u001b[1;33m\u001b[0m\u001b[1;33m\u001b[0m\u001b[0m\n\u001b[1;32m-> 1133\u001b[1;33m         \u001b[0mret\u001b[0m \u001b[1;33m=\u001b[0m \u001b[0mself\u001b[0m\u001b[1;33m.\u001b[0m\u001b[0m_engine\u001b[0m\u001b[1;33m.\u001b[0m\u001b[0mread\u001b[0m\u001b[1;33m(\u001b[0m\u001b[0mnrows\u001b[0m\u001b[1;33m)\u001b[0m\u001b[1;33m\u001b[0m\u001b[1;33m\u001b[0m\u001b[0m\n\u001b[0m\u001b[0;32m   1134\u001b[0m \u001b[1;33m\u001b[0m\u001b[0m\n\u001b[0;32m   1135\u001b[0m         \u001b[1;31m# May alter columns / col_dict\u001b[0m\u001b[1;33m\u001b[0m\u001b[1;33m\u001b[0m\u001b[1;33m\u001b[0m\u001b[0m\n",
      "\u001b[1;32m~\\.conda\\envs\\test\\lib\\site-packages\\pandas\\io\\parsers.py\u001b[0m in \u001b[0;36mread\u001b[1;34m(self, nrows)\u001b[0m\n\u001b[0;32m   2035\u001b[0m     \u001b[1;32mdef\u001b[0m \u001b[0mread\u001b[0m\u001b[1;33m(\u001b[0m\u001b[0mself\u001b[0m\u001b[1;33m,\u001b[0m \u001b[0mnrows\u001b[0m\u001b[1;33m=\u001b[0m\u001b[1;32mNone\u001b[0m\u001b[1;33m)\u001b[0m\u001b[1;33m:\u001b[0m\u001b[1;33m\u001b[0m\u001b[1;33m\u001b[0m\u001b[0m\n\u001b[0;32m   2036\u001b[0m         \u001b[1;32mtry\u001b[0m\u001b[1;33m:\u001b[0m\u001b[1;33m\u001b[0m\u001b[1;33m\u001b[0m\u001b[0m\n\u001b[1;32m-> 2037\u001b[1;33m             \u001b[0mdata\u001b[0m \u001b[1;33m=\u001b[0m \u001b[0mself\u001b[0m\u001b[1;33m.\u001b[0m\u001b[0m_reader\u001b[0m\u001b[1;33m.\u001b[0m\u001b[0mread\u001b[0m\u001b[1;33m(\u001b[0m\u001b[0mnrows\u001b[0m\u001b[1;33m)\u001b[0m\u001b[1;33m\u001b[0m\u001b[1;33m\u001b[0m\u001b[0m\n\u001b[0m\u001b[0;32m   2038\u001b[0m         \u001b[1;32mexcept\u001b[0m \u001b[0mStopIteration\u001b[0m\u001b[1;33m:\u001b[0m\u001b[1;33m\u001b[0m\u001b[1;33m\u001b[0m\u001b[0m\n\u001b[0;32m   2039\u001b[0m             \u001b[1;32mif\u001b[0m \u001b[0mself\u001b[0m\u001b[1;33m.\u001b[0m\u001b[0m_first_chunk\u001b[0m\u001b[1;33m:\u001b[0m\u001b[1;33m\u001b[0m\u001b[1;33m\u001b[0m\u001b[0m\n",
      "\u001b[1;32mpandas\\_libs\\parsers.pyx\u001b[0m in \u001b[0;36mpandas._libs.parsers.TextReader.read\u001b[1;34m()\u001b[0m\n",
      "\u001b[1;32mpandas\\_libs\\parsers.pyx\u001b[0m in \u001b[0;36mpandas._libs.parsers.TextReader._read_low_memory\u001b[1;34m()\u001b[0m\n",
      "\u001b[1;32mpandas\\_libs\\parsers.pyx\u001b[0m in \u001b[0;36mpandas._libs.parsers.TextReader._read_rows\u001b[1;34m()\u001b[0m\n",
      "\u001b[1;32mpandas\\_libs\\parsers.pyx\u001b[0m in \u001b[0;36mpandas._libs.parsers.TextReader._convert_column_data\u001b[1;34m()\u001b[0m\n",
      "\u001b[1;32mpandas\\_libs\\parsers.pyx\u001b[0m in \u001b[0;36mpandas._libs.parsers.TextReader._convert_tokens\u001b[1;34m()\u001b[0m\n",
      "\u001b[1;32mpandas\\_libs\\parsers.pyx\u001b[0m in \u001b[0;36mpandas._libs.parsers.TextReader._convert_with_dtype\u001b[1;34m()\u001b[0m\n",
      "\u001b[1;32m~\\.conda\\envs\\test\\lib\\site-packages\\pandas\\core\\dtypes\\common.py\u001b[0m in \u001b[0;36mis_categorical_dtype\u001b[1;34m(arr_or_dtype)\u001b[0m\n\u001b[0;32m    540\u001b[0m \u001b[1;33m\u001b[0m\u001b[0m\n\u001b[0;32m    541\u001b[0m \u001b[1;33m\u001b[0m\u001b[0m\n\u001b[1;32m--> 542\u001b[1;33m \u001b[1;32mdef\u001b[0m \u001b[0mis_categorical_dtype\u001b[0m\u001b[1;33m(\u001b[0m\u001b[0marr_or_dtype\u001b[0m\u001b[1;33m)\u001b[0m \u001b[1;33m->\u001b[0m \u001b[0mbool\u001b[0m\u001b[1;33m:\u001b[0m\u001b[1;33m\u001b[0m\u001b[1;33m\u001b[0m\u001b[0m\n\u001b[0m\u001b[0;32m    543\u001b[0m     \"\"\"\n\u001b[0;32m    544\u001b[0m     \u001b[0mCheck\u001b[0m \u001b[0mwhether\u001b[0m \u001b[0man\u001b[0m \u001b[0marray\u001b[0m\u001b[1;33m-\u001b[0m\u001b[0mlike\u001b[0m \u001b[1;32mor\u001b[0m \u001b[0mdtype\u001b[0m \u001b[1;32mis\u001b[0m \u001b[0mof\u001b[0m \u001b[0mthe\u001b[0m \u001b[0mCategorical\u001b[0m \u001b[0mdtype\u001b[0m\u001b[1;33m.\u001b[0m\u001b[1;33m\u001b[0m\u001b[1;33m\u001b[0m\u001b[0m\n",
      "\u001b[1;31mKeyboardInterrupt\u001b[0m: "
     ]
    }
   ],
   "source": [
    "tf.random.set_seed(77)\n",
    "os.environ['PYTHONHASHSEED'] = str(77)\n",
    "np.random.seed(77)\n",
    "random.seed(77)\n",
    "\n",
    "# Data read and formatting\n",
    "\n",
    "PATH_ENERGY_FEATURIZED = \"../data/building_energy_featurized.csv\"\n",
    "PATH_DISTANCES = \"D:/smud/smud_distances.csv\"\n",
    "PATH_ENERGY_ACTUAL = \"../data/building_energy_actual.csv\"\n",
    "PATH_ENERGY_SIM = \"../data/building_energy_sim.csv\"\n",
    "\n",
    "energy_dtype = {\n",
    "    'apn': str, \n",
    "    'year': np.float32, \n",
    "    'month': np.float32, \n",
    "    'day': np.float32, \n",
    "    'hour': np.float32, \n",
    "    'kwh': np.float32\n",
    "}\n",
    "\n",
    "energy_featurized = pd.read_csv(PATH_ENERGY_FEATURIZED, dtype=np.float32)\n",
    "dist = pd.read_csv(PATH_DISTANCES, dtype=str)\n",
    "energy_actual = pd.read_csv(PATH_ENERGY_ACTUAL, dtype=energy_dtype)\n",
    "energy_sim = pd.read_csv(PATH_ENERGY_SIM, dtype=energy_dtype)"
   ]
  },
  {
   "cell_type": "code",
   "execution_count": null,
   "metadata": {},
   "outputs": [],
   "source": [
    "def one_hot_encode(df, column, prefix):\n",
    "    return pd.get_dummies(df, columns=[column], prefix=prefix)\n",
    "\n",
    "def agg_temporal(df, by_apn, temporal_scale, func):\n",
    "    if temporal_scale == 'hour':\n",
    "        return df\n",
    "    groupings = ['apn', 'year', 'month', 'day']\n",
    "    if not by_apn:\n",
    "        groupings = ['year', 'month', 'day']\n",
    "    thresholds = {'month': 28, 'day': 24}\n",
    "    df = df.drop(columns='hour')\n",
    "    while(groupings[-1] != temporal_scale):\n",
    "        df = df.groupby(groupings).filter(lambda x: len(x) >= thresholds[groupings[-1]]).groupby(groupings).agg('sum')\n",
    "        del groupings[-1]\n",
    "    return df.groupby(groupings).filter(lambda x: len(x) >= thresholds[groupings[-1]]).groupby(groupings).agg('sum').reset_index()\n",
    "        \n",
    "def get_energy_df(energy_sim, energy_actual, one_hot=True, spatial_scale='building', temporal_scale='hour'):\n",
    "    print(\"Retrieving DUE-S Energy Data...\")\n",
    "    \n",
    "    actual_apn = energy_actual['apn'].unique()\n",
    "    energy_sim = energy_sim[energy_sim['apn'].isin(actual_apn)]\n",
    "    energy_actual = energy_actual.filter(items=['apn', 'year', 'month', 'day', 'hour', 'kwh'])\n",
    "    energy_sim = energy_sim.filter(items=['apn', 'year', 'month', 'day', 'hour', 'kwh'])\n",
    "    energy_actual.rename(columns={'kwh': 'kwh_actual_hold'}, inplace=True)\n",
    "    energy_actual.sort_values(by=['apn', 'year', 'month', 'day', 'hour'], inplace=True)\n",
    "    \n",
    "    groupings = ['year', 'month', 'day', 'hour']\n",
    "    if spatial_scale == 'urban':\n",
    "        NUM_BUILDINGS = len(actual_apn)\n",
    "        energy_actual = energy_actual.groupby(groupings).filter(lambda x: len(x) == NUM_BUILDINGS)\n",
    "        energy_actual = energy_actual.groupby(groupings).agg('sum').reset_index()\n",
    "        energy_actual = agg_temporal(energy_actual, by_apn=False, temporal_scale=temporal_scale, func='sum')\n",
    "    else:\n",
    "        energy_actual = agg_temporal(energy_actual, by_apn=True, temporal_scale=temporal_scale, func='sum')\n",
    "\n",
    "    energy_sim['date'] = energy_sim['year'].astype(str) + \"-\" + energy_sim['month'].astype(str) +  \"-\" + energy_sim['day'].astype(str) + \"-\" + energy_sim['hour'].astype(str)\n",
    "    energy_sim = energy_sim.pivot(index='date', columns='apn', values='kwh').add_prefix(\"kwh_sim_\")\n",
    "    energy_sim.reset_index(inplace=True)\n",
    "    time_vars = energy_sim['date'].apply(lambda x: pd.to_numeric(pd.Series(x.split('-'))))\n",
    "    time_vars.columns = ['year', 'month', 'day', 'hour']\n",
    "    energy_sim = pd.concat([time_vars, energy_sim], axis=1)\n",
    "    energy_sim.drop(columns='date', inplace=True)\n",
    "    \n",
    "    energy_sim = agg_temporal(energy_sim, by_apn=False, temporal_scale=temporal_scale, func='sum')\n",
    "\n",
    "    energy = energy_actual.merge(energy_sim, how='left')\n",
    "    \n",
    "    if spatial_scale == 'building':\n",
    "        groupings = ['apn', 'year', 'month', 'day', 'hour']\n",
    "        t_index = groupings.index(temporal_scale) + 1\n",
    "        grouping  = groupings[:t_index]\n",
    "        energy.sort_values(by=grouping, inplace=True)\n",
    "        if one_hot:\n",
    "            energy = one_hot_encode(energy, 'apn', 'target')\n",
    "    elif spatial_scale == 'urban':\n",
    "        groupings = ['year', 'month', 'day', 'hour']\n",
    "        t_index = groupings.index(temporal_scale) + 1\n",
    "        grouping  = groupings[:t_index]\n",
    "        energy.sort_values(by=grouping, inplace=True)\n",
    "        \n",
    "    energy['kwh_actual'] = energy['kwh_actual_hold']\n",
    "    energy.drop(columns='kwh_actual_hold', inplace=True)\n",
    "\n",
    "    return energy"
   ]
  },
  {
   "cell_type": "code",
   "execution_count": null,
   "metadata": {
    "scrolled": true
   },
   "outputs": [],
   "source": [
    "get_energy_df(energy_sim, energy_actual, one_hot=False, spatial_scale='building', temporal_scale = 'hour')"
   ]
  },
  {
   "cell_type": "code",
   "execution_count": null,
   "metadata": {},
   "outputs": [],
   "source": [
    "get_energy_df(energy_sim, energy_actual, spatial_scale='building', temporal_scale = 'day')"
   ]
  },
  {
   "cell_type": "code",
   "execution_count": null,
   "metadata": {},
   "outputs": [],
   "source": [
    "get_energy_df(energy_sim, energy_actual, spatial_scale='building', temporal_scale = 'month')"
   ]
  },
  {
   "cell_type": "code",
   "execution_count": null,
   "metadata": {},
   "outputs": [],
   "source": [
    "get_energy_df(energy_sim, energy_actual, spatial_scale='urban', temporal_scale = 'hour')"
   ]
  },
  {
   "cell_type": "code",
   "execution_count": null,
   "metadata": {},
   "outputs": [],
   "source": [
    "get_energy_df(energy_sim, energy_actual, spatial_scale='urban', temporal_scale = 'day')"
   ]
  },
  {
   "cell_type": "code",
   "execution_count": null,
   "metadata": {},
   "outputs": [],
   "source": [
    "get_energy_df(energy_sim, energy_actual, spatial_scale='urban', temporal_scale = 'month')"
   ]
  },
  {
   "cell_type": "code",
   "execution_count": null,
   "metadata": {},
   "outputs": [],
   "source": [
    "PATH_ENERGY_ACTUAL = \"../data/building_energy_actual.csv\"\n",
    "PATH_ENERGY_BASELINE = \"../data/building_energy_retrofit_baseline.csv\"\n",
    "PATH_ENERGY_FULL = \"../data/building_energy_retrofit_full.csv\"\n",
    "PATH_ENERGY_LIGHT = \"../data/building_energy_retrofit_light.csv\"\n",
    "PATH_ENERGY_WINDOW = \"../data/building_energy_retrofit_window.csv\"\n",
    "\n",
    "energy_dtype = {\n",
    "    'apn': str, \n",
    "    'year': np.float32, \n",
    "    'month': np.float32, \n",
    "    'day': np.float32, \n",
    "    'hour': np.float32, \n",
    "    'kwh': np.float32\n",
    "}\n",
    "\n",
    "energy_actual = pd.read_csv(PATH_ENERGY_ACTUAL, dtype=energy_dtype)\n",
    "energy_retrofit_baseline = pd.read_csv(PATH_ENERGY_BASELINE, dtype=energy_dtype)\n",
    "energy_retrofit_full = pd.read_csv(PATH_ENERGY_FULL, dtype=energy_dtype)\n",
    "energy_retrofit_light = pd.read_csv(PATH_ENERGY_LIGHT, dtype=energy_dtype)\n",
    "energy_retrofit_window = pd.read_csv(PATH_ENERGY_WINDOW, dtype=energy_dtype)"
   ]
  },
  {
   "cell_type": "code",
   "execution_count": 10,
   "metadata": {},
   "outputs": [
    {
     "data": {
      "text/plain": [
       "<module 'dues_utilities' from 'C:\\\\Users\\\\benchoi\\\\Projects\\\\dues\\\\ml\\\\dues_utilities.py'>"
      ]
     },
     "execution_count": 10,
     "metadata": {},
     "output_type": "execute_result"
    }
   ],
   "source": [
    "import importlib\n",
    "importlib.reload(utils)"
   ]
  },
  {
   "cell_type": "code",
   "execution_count": 17,
   "metadata": {},
   "outputs": [],
   "source": [
    "#energy_actual = pd.read_csv(PATH_ENERGY_ACTUAL, dtype=energy_dtype)\n",
    "#energy = utils.get_energy_df(energy_retrofit_baseline, energy_actual, one_hot=False, temporal_scale='hour', spatial_scale='building')\n",
    "\n",
    "# Callback Functions\n",
    "callbacks = []\n",
    "callbacks.append(EarlyStopping(patience=2))\n",
    "\n",
    "# Additional Parameters\n",
    "verbose = 0\n",
    "N = 20"
   ]
  },
  {
   "cell_type": "code",
   "execution_count": 14,
   "metadata": {},
   "outputs": [
    {
     "name": "stdout",
     "output_type": "stream",
     "text": [
      "Processing Fold #1...\n",
      "Train: (21083, 6, 34) (21083, 6, 1)\n",
      "Val: (21315, 6, 34) (21315, 6, 1)\n",
      "Test: (20938, 6, 34) (20938, 6, 1)\n",
      "Processing Fold #2...\n",
      "Train: (42427, 6, 34) (42427, 6, 1)\n",
      "Val: (20938, 6, 34) (20938, 6, 1)\n",
      "Test: (21315, 6, 34) (21315, 6, 1)\n",
      "Processing Fold #3...\n",
      "Train: (63394, 6, 34) (63394, 6, 1)\n",
      "Val: (21315, 6, 34) (21315, 6, 1)\n",
      "Test: (20967, 6, 34) (20967, 6, 1)\n",
      "Processing Fold #4...\n",
      "Train: (84738, 6, 34) (84738, 6, 1)\n",
      "Val: (20967, 6, 34) (20967, 6, 1)\n",
      "Test: (21315, 6, 34) (21315, 6, 1)\n"
     ]
    }
   ],
   "source": [
    "timesteps = 6\n",
    "\n",
    "# Define folds in 6 month increments\n",
    "fold_1 = ['year <= 2016 and month < 7', 'year == 2016 and month >= 7', 'year == 2017 and month < 7']\n",
    "fold_2 = ['year <= 2016', 'year == 2017 and month < 7', 'year == 2017 and month >= 7']\n",
    "fold_3 = ['(year == 2017 and month < 7) or year <= 2016', 'year == 2017 and month >= 7', 'year == 2018 and month < 7']\n",
    "fold_4 = ['year <= 2017', 'year == 2018 and month < 7', 'year == 2018 and month >= 7']\n",
    "folds = [fold_1, fold_2, fold_3, fold_4]\n",
    "\n",
    "train_folds = []\n",
    "val_folds = []\n",
    "test_folds = []\n",
    "\n",
    "for idx, fold in enumerate(folds):\n",
    "    print(\"Processing Fold #\" + str(idx + 1) + \"...\")\n",
    "    \n",
    "    energy_train = utils.prep_for_seq_lstm(energy, fold[0], timesteps)\n",
    "    energy_val = utils.prep_for_seq_lstm(energy, fold[1], timesteps)\n",
    "    energy_test = utils.prep_for_seq_lstm(energy, fold[2], timesteps)\n",
    "    \n",
    "    # Fit Standard Scaler on training data\n",
    "    standard_scaler = utils.get_standard_scaler(energy_train, None, 'kwh_actual')\n",
    "    \n",
    "    train_folds.append(utils.preprocess(energy_train, None, standard_scaler, n_in=timesteps, df_name=\"Train\", remove_target=False, to_supervised=False))\n",
    "    val_folds.append(utils.preprocess(energy_val, None, standard_scaler, n_in=timesteps, df_name=\"Val\", remove_target=False, to_supervised=False))\n",
    "    test_folds.append(utils.preprocess(energy_test, None, standard_scaler, n_in=timesteps, df_name=\"Test\", remove_target=False, to_supervised=False))\n",
    "    \n",
    "    n_features = train_folds[0][0].shape[-1]"
   ]
  },
  {
   "cell_type": "code",
   "execution_count": 15,
   "metadata": {},
   "outputs": [],
   "source": [
    "val_agg_ref = []\n",
    "test_agg_ref = []\n",
    "\n",
    "for idx, fold in enumerate(folds):\n",
    "    val_agg_ref.append(utils.prep_for_seq_lstm(energy, fold[1], timesteps, one_hot=False).filter(items=['apn', 'year', 'month', 'day', 'hour', 'kwh_actual']))\n",
    "    val_agg_ref[idx]['kwh_actual'] = val_agg_ref[idx]['kwh_actual'].apply(lambda x: np.where(x < 1, 1, x))\n",
    "    test_agg_ref.append(utils.prep_for_seq_lstm(energy, fold[2], timesteps, one_hot=False).filter(items=['apn', 'year', 'month', 'day', 'hour', 'kwh_actual']))\n",
    "    test_agg_ref[idx]['kwh_actual'] = test_agg_ref[idx]['kwh_actual'].apply(lambda x: np.where(x < 1, 1, x))"
   ]
  },
  {
   "cell_type": "code",
   "execution_count": 19,
   "metadata": {},
   "outputs": [
    {
     "name": "stdout",
     "output_type": "stream",
     "text": [
      "-----Experiment #1-----\n",
      "\n",
      "Fold #1\n",
      "Model: \"sequential_3\"\n",
      "_________________________________________________________________\n",
      "Layer (type)                 Output Shape              Param #   \n",
      "=================================================================\n",
      "lstm_5 (LSTM)                (None, 6, 8)              1376      \n",
      "_________________________________________________________________\n",
      "lstm_6 (LSTM)                (None, 6, 8)              544       \n",
      "_________________________________________________________________\n",
      "time_distributed_5 (TimeDist (None, 6, 64)             576       \n",
      "_________________________________________________________________\n",
      "time_distributed_6 (TimeDist (None, 6, 1)              65        \n",
      "=================================================================\n",
      "Total params: 2,561\n",
      "Trainable params: 2,561\n",
      "Non-trainable params: 0\n",
      "_________________________________________________________________\n"
     ]
    },
    {
     "data": {
      "image/png": "[encoded data removed]",
      "text/plain": [
       "<Figure size 432x288 with 1 Axes>"
      ]
     },
     "metadata": {
      "needs_background": "light"
     },
     "output_type": "display_data"
    },
    {
     "name": "stdout",
     "output_type": "stream",
     "text": [
      "\n",
      "Fold #2\n"
     ]
    },
    {
     "data": {
      "image/png": "[encoded data removed]",
      "text/plain": [
       "<Figure size 432x288 with 1 Axes>"
      ]
     },
     "metadata": {
      "needs_background": "light"
     },
     "output_type": "display_data"
    },
    {
     "name": "stdout",
     "output_type": "stream",
     "text": [
      "\n",
      "Fold #3\n"
     ]
    },
    {
     "data": {
      "image/png": "[encoded data removed]",
      "text/plain": [
       "<Figure size 432x288 with 1 Axes>"
      ]
     },
     "metadata": {
      "needs_background": "light"
     },
     "output_type": "display_data"
    },
    {
     "name": "stdout",
     "output_type": "stream",
     "text": [
      "\n",
      "Fold #4\n"
     ]
    },
    {
     "data": {
      "image/png": "[encoded data removed]",
      "text/plain": [
       "<Figure size 432x288 with 1 Axes>"
      ]
     },
     "metadata": {
      "needs_background": "light"
     },
     "output_type": "display_data"
    },
    {
     "name": "stdout",
     "output_type": "stream",
     "text": [
      "[[[ 1.80969199e+00  7.54251293e+02  3.26295435e+00 -1.50882081e+00]\n",
      "  [ 1.52887249e+00  2.91496650e+05  2.53293738e+00 -3.62377850e+01]\n",
      "  [ 1.35546313e+00  2.31974788e+08  2.23279850e+00 -1.08939651e+03]]\n",
      "\n",
      " [[ 9.15692296e-01  1.30242920e+05  1.44241515e+00 -4.37274872e+01]\n",
      "  [ 9.26196814e-01  5.27449102e+07  1.17708669e+00 -1.05054169e+03]\n",
      "  [ 8.52930983e-01  4.03464179e+10  1.00470642e+00 -3.15604160e+04]]]\n",
      "[[[ 1.75881923e+00  6.96441116e+02  3.22024761e+00 -1.43105265e+00]\n",
      "  [ 1.44159008e+00  2.63343348e+05  2.49207116e+00 -3.42791151e+01]\n",
      "  [ 1.26493978e+00  1.96794760e+08  2.22879710e+00 -1.01136832e+03]]\n",
      "\n",
      " [[ 9.13951791e-01  1.20458716e+05  1.41039356e+00 -4.14459417e+01]\n",
      "  [ 9.14237767e-01  4.79983783e+07  1.13804001e+00 -9.93764621e+02]\n",
      "  [ 8.54000675e-01  3.40361948e+10  9.87597171e-01 -2.92369719e+04]]]\n"
     ]
    }
   ],
   "source": [
    "lstm_model = None\n",
    "\n",
    "metrics = np.zeros((2, 2, 3, 4))\n",
    "\n",
    "for i in range(1):\n",
    "    lstm_model = Sequential()\n",
    "    lstm_model.add(LSTM(4, input_shape=(timesteps, n_features), return_sequences=True))\n",
    "    lstm_model.add(LSTM(4, return_sequences=True))\n",
    "    lstm_model.add(TimeDistributed(Dense(16, activation='relu')))\n",
    "    lstm_model.add(TimeDistributed(Dense(1)))\n",
    "    \n",
    "    print(\"-----Experiment #\" + str(i + 1) + \"-----\")\n",
    "    metrics = metrics + utils.walk_forward_cv(\n",
    "        lstm_model, \n",
    "        train_folds, \n",
    "        val_folds, \n",
    "        test_folds, \n",
    "        callbacks=callbacks,\n",
    "        verbose=verbose, \n",
    "        model_name=\"Sequential Vanilla LSTM\",\n",
    "        val_agg_df=val_agg_ref,\n",
    "        test_agg_df=test_agg_ref\n",
    "    ) / N\n",
    "\n",
    "print(metrics[0] * N)\n",
    "print(metrics[1] * N)\n",
    "    \n",
    "# print(\"\\nOverall Validation:\")\n",
    "# utils.print_metrics(*metrics[0])\n",
    "# print(\"\\nOverall Test:\")\n",
    "# utils.print_metrics(*metrics[1])\n",
    "\n",
    "# [[[ 3.30487633e+01  7.41074758e+03  4.91963376e+01 -1.65694177e+01]\n",
    "#   [ 2.46863779e+01  1.99842694e+06  3.29291207e+01 -3.98302506e+02]\n",
    "#   [ 2.05480980e+01  1.23147963e+09  2.61883659e+01 -1.19099284e+04]]\n",
    "\n",
    "#  [[ 1.39152798e+01  1.20841454e+06  2.10602179e+01 -4.80126149e+02]\n",
    "#   [ 1.14336762e+01  4.11468366e+08  1.58471868e+01 -1.15471003e+04]\n",
    "#   [ 9.83055881e+00  2.49937720e+11  1.21563468e+01 -3.45002723e+05]]]\n",
    "# [[[ 4.02658584e+01  6.21869045e+03  4.58128754e+01 -1.28516679e+01]\n",
    "#   [ 3.12766842e+01  1.60925836e+06  3.01592396e+01 -3.08032131e+02]\n",
    "#   [ 2.70873877e+01  1.00510917e+09  2.44213697e+01 -9.18515166e+03]]\n",
    "\n",
    "#  [[ 1.16919006e+01  8.85880320e+05  1.83767440e+01 -3.72297511e+02]\n",
    "#   [ 9.06653208e+00  2.92221735e+08  1.34080050e+01 -8.93037194e+03]\n",
    "#   [ 7.31203459e+00  1.71301673e+11  1.01976685e+01 -2.65953972e+05]]]"
   ]
  }
 ],
 "metadata": {
  "kernelspec": {
   "display_name": "Python 3",
   "language": "python",
   "name": "python3"
  },
  "language_info": {
   "codemirror_mode": {
    "name": "ipython",
    "version": 3
   },
   "file_extension": ".py",
   "mimetype": "text/x-python",
   "name": "python",
   "nbconvert_exporter": "python",
   "pygments_lexer": "ipython3",
   "version": "3.8.2"
  }
 },
 "nbformat": 4,
 "nbformat_minor": 4
}
