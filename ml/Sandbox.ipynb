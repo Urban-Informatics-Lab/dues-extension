{
 "cells": [
  {
   "cell_type": "code",
   "execution_count": 1,
   "metadata": {},
   "outputs": [
    {
     "name": "stderr",
     "output_type": "stream",
     "text": [
      "Using TensorFlow backend.\n"
     ]
    }
   ],
   "source": [
    "import pyreadr\n",
    "\n",
    "import numpy as np\n",
    "import pandas as pd\n",
    "\n",
    "from sklearn import preprocessing\n",
    "from scipy.special import comb, logsumexp\n",
    "from sklearn.model_selection import train_test_split\n",
    "from sklearn.linear_model import LinearRegression\n",
    "from sklearn.ensemble import GradientBoostingRegressor\n",
    "from sklearn.metrics import mean_absolute_error\n",
    "\n",
    "import keras\n",
    "from keras.models import Sequential\n",
    "from keras.layers import Dense\n",
    "\n",
    "import matplotlib.pyplot as plt"
   ]
  },
  {
   "cell_type": "code",
   "execution_count": 21,
   "metadata": {},
   "outputs": [],
   "source": [
    "actual_path = \"../data/building_energy_actual.rds\"\n",
    "sim_path = \"../data/building_energy_sim.rds\"\n",
    "\n",
    "e_actual = pyreadr.read_r(actual_path)[None]\n",
    "e_sim = pyreadr.read_r(sim_path)[None]"
   ]
  },
  {
   "cell_type": "code",
   "execution_count": 22,
   "metadata": {},
   "outputs": [],
   "source": [
    "e_sim = e_sim.filter(['apn', 'kwh', 'year', 'month', 'day', 'hour'])\n",
    "e_sim = e_sim.rename(columns={\"kwh\": \"kwh_sim\"})"
   ]
  },
  {
   "cell_type": "code",
   "execution_count": 23,
   "metadata": {},
   "outputs": [],
   "source": [
    "e_merged = e_actual.merge(e_sim, on=['apn', 'year', 'month', 'day', 'hour'], how='inner')\n",
    "e_merged = e_merged.dropna()\n",
    "e_merged = e_merged.filter(items=['apn', 'kwh', 'kwh_sim', 'year', 'month', 'day', 'hour', 'year_built', 'num_stories', 'ground_floor', 'net_rental'])\n",
    "e_merged['kwh'] = e_merged['kwh'].astype(int)"
   ]
  },
  {
   "cell_type": "code",
   "execution_count": 24,
   "metadata": {},
   "outputs": [
    {
     "data": {
      "text/html": [
       "<div>\n",
       "<style scoped>\n",
       "    .dataframe tbody tr th:only-of-type {\n",
       "        vertical-align: middle;\n",
       "    }\n",
       "\n",
       "    .dataframe tbody tr th {\n",
       "        vertical-align: top;\n",
       "    }\n",
       "\n",
       "    .dataframe thead th {\n",
       "        text-align: right;\n",
       "    }\n",
       "</style>\n",
       "<table border=\"1\" class=\"dataframe\">\n",
       "  <thead>\n",
       "    <tr style=\"text-align: right;\">\n",
       "      <th></th>\n",
       "      <th>apn</th>\n",
       "      <th>kwh</th>\n",
       "      <th>kwh_sim</th>\n",
       "      <th>year</th>\n",
       "      <th>month</th>\n",
       "      <th>day</th>\n",
       "      <th>hour</th>\n",
       "      <th>year_built</th>\n",
       "      <th>num_stories</th>\n",
       "      <th>ground_floor</th>\n",
       "      <th>net_rental</th>\n",
       "    </tr>\n",
       "  </thead>\n",
       "  <tbody>\n",
       "    <tr>\n",
       "      <th>0</th>\n",
       "      <td>00601010190000</td>\n",
       "      <td>6</td>\n",
       "      <td>4</td>\n",
       "      <td>2016.0</td>\n",
       "      <td>1.0</td>\n",
       "      <td>1</td>\n",
       "      <td>1</td>\n",
       "      <td>1900</td>\n",
       "      <td>1</td>\n",
       "      <td>8150</td>\n",
       "      <td>8150</td>\n",
       "    </tr>\n",
       "    <tr>\n",
       "      <th>1</th>\n",
       "      <td>00601010190000</td>\n",
       "      <td>6</td>\n",
       "      <td>4</td>\n",
       "      <td>2016.0</td>\n",
       "      <td>1.0</td>\n",
       "      <td>1</td>\n",
       "      <td>2</td>\n",
       "      <td>1900</td>\n",
       "      <td>1</td>\n",
       "      <td>8150</td>\n",
       "      <td>8150</td>\n",
       "    </tr>\n",
       "    <tr>\n",
       "      <th>2</th>\n",
       "      <td>00601010190000</td>\n",
       "      <td>7</td>\n",
       "      <td>4</td>\n",
       "      <td>2016.0</td>\n",
       "      <td>1.0</td>\n",
       "      <td>1</td>\n",
       "      <td>3</td>\n",
       "      <td>1900</td>\n",
       "      <td>1</td>\n",
       "      <td>8150</td>\n",
       "      <td>8150</td>\n",
       "    </tr>\n",
       "    <tr>\n",
       "      <th>3</th>\n",
       "      <td>00601010190000</td>\n",
       "      <td>6</td>\n",
       "      <td>4</td>\n",
       "      <td>2016.0</td>\n",
       "      <td>1.0</td>\n",
       "      <td>1</td>\n",
       "      <td>4</td>\n",
       "      <td>1900</td>\n",
       "      <td>1</td>\n",
       "      <td>8150</td>\n",
       "      <td>8150</td>\n",
       "    </tr>\n",
       "    <tr>\n",
       "      <th>4</th>\n",
       "      <td>00601010190000</td>\n",
       "      <td>6</td>\n",
       "      <td>4</td>\n",
       "      <td>2016.0</td>\n",
       "      <td>1.0</td>\n",
       "      <td>1</td>\n",
       "      <td>5</td>\n",
       "      <td>1900</td>\n",
       "      <td>1</td>\n",
       "      <td>8150</td>\n",
       "      <td>8150</td>\n",
       "    </tr>\n",
       "    <tr>\n",
       "      <th>...</th>\n",
       "      <td>...</td>\n",
       "      <td>...</td>\n",
       "      <td>...</td>\n",
       "      <td>...</td>\n",
       "      <td>...</td>\n",
       "      <td>...</td>\n",
       "      <td>...</td>\n",
       "      <td>...</td>\n",
       "      <td>...</td>\n",
       "      <td>...</td>\n",
       "      <td>...</td>\n",
       "    </tr>\n",
       "    <tr>\n",
       "      <th>829619</th>\n",
       "      <td>00600470060000</td>\n",
       "      <td>16</td>\n",
       "      <td>36</td>\n",
       "      <td>2018.0</td>\n",
       "      <td>12.0</td>\n",
       "      <td>31</td>\n",
       "      <td>19</td>\n",
       "      <td>1920</td>\n",
       "      <td>3</td>\n",
       "      <td>4000</td>\n",
       "      <td>8162</td>\n",
       "    </tr>\n",
       "    <tr>\n",
       "      <th>829620</th>\n",
       "      <td>00600470060000</td>\n",
       "      <td>15</td>\n",
       "      <td>35</td>\n",
       "      <td>2018.0</td>\n",
       "      <td>12.0</td>\n",
       "      <td>31</td>\n",
       "      <td>20</td>\n",
       "      <td>1920</td>\n",
       "      <td>3</td>\n",
       "      <td>4000</td>\n",
       "      <td>8162</td>\n",
       "    </tr>\n",
       "    <tr>\n",
       "      <th>829621</th>\n",
       "      <td>00600470060000</td>\n",
       "      <td>14</td>\n",
       "      <td>33</td>\n",
       "      <td>2018.0</td>\n",
       "      <td>12.0</td>\n",
       "      <td>31</td>\n",
       "      <td>21</td>\n",
       "      <td>1920</td>\n",
       "      <td>3</td>\n",
       "      <td>4000</td>\n",
       "      <td>8162</td>\n",
       "    </tr>\n",
       "    <tr>\n",
       "      <th>829622</th>\n",
       "      <td>00600470060000</td>\n",
       "      <td>12</td>\n",
       "      <td>30</td>\n",
       "      <td>2018.0</td>\n",
       "      <td>12.0</td>\n",
       "      <td>31</td>\n",
       "      <td>22</td>\n",
       "      <td>1920</td>\n",
       "      <td>3</td>\n",
       "      <td>4000</td>\n",
       "      <td>8162</td>\n",
       "    </tr>\n",
       "    <tr>\n",
       "      <th>829623</th>\n",
       "      <td>00600470060000</td>\n",
       "      <td>9</td>\n",
       "      <td>24</td>\n",
       "      <td>2018.0</td>\n",
       "      <td>12.0</td>\n",
       "      <td>31</td>\n",
       "      <td>23</td>\n",
       "      <td>1920</td>\n",
       "      <td>3</td>\n",
       "      <td>4000</td>\n",
       "      <td>8162</td>\n",
       "    </tr>\n",
       "  </tbody>\n",
       "</table>\n",
       "<p>829560 rows × 11 columns</p>\n",
       "</div>"
      ],
      "text/plain": [
       "                   apn  kwh  kwh_sim    year  month  day  hour  year_built  \\\n",
       "0       00601010190000    6        4  2016.0    1.0    1     1        1900   \n",
       "1       00601010190000    6        4  2016.0    1.0    1     2        1900   \n",
       "2       00601010190000    7        4  2016.0    1.0    1     3        1900   \n",
       "3       00601010190000    6        4  2016.0    1.0    1     4        1900   \n",
       "4       00601010190000    6        4  2016.0    1.0    1     5        1900   \n",
       "...                ...  ...      ...     ...    ...  ...   ...         ...   \n",
       "829619  00600470060000   16       36  2018.0   12.0   31    19        1920   \n",
       "829620  00600470060000   15       35  2018.0   12.0   31    20        1920   \n",
       "829621  00600470060000   14       33  2018.0   12.0   31    21        1920   \n",
       "829622  00600470060000   12       30  2018.0   12.0   31    22        1920   \n",
       "829623  00600470060000    9       24  2018.0   12.0   31    23        1920   \n",
       "\n",
       "        num_stories  ground_floor  net_rental  \n",
       "0                 1          8150        8150  \n",
       "1                 1          8150        8150  \n",
       "2                 1          8150        8150  \n",
       "3                 1          8150        8150  \n",
       "4                 1          8150        8150  \n",
       "...             ...           ...         ...  \n",
       "829619            3          4000        8162  \n",
       "829620            3          4000        8162  \n",
       "829621            3          4000        8162  \n",
       "829622            3          4000        8162  \n",
       "829623            3          4000        8162  \n",
       "\n",
       "[829560 rows x 11 columns]"
      ]
     },
     "execution_count": 24,
     "metadata": {},
     "output_type": "execute_result"
    }
   ],
   "source": [
    "e_merged"
   ]
  },
  {
   "cell_type": "code",
   "execution_count": 25,
   "metadata": {},
   "outputs": [
    {
     "data": {
      "text/plain": [
       "apn              object\n",
       "kwh               int32\n",
       "kwh_sim           int32\n",
       "year            float64\n",
       "month           float64\n",
       "day               int32\n",
       "hour              int32\n",
       "year_built        int32\n",
       "num_stories       int32\n",
       "ground_floor      int32\n",
       "net_rental        int32\n",
       "dtype: object"
      ]
     },
     "execution_count": 25,
     "metadata": {},
     "output_type": "execute_result"
    }
   ],
   "source": [
    "e_merged.dtypes"
   ]
  },
  {
   "cell_type": "code",
   "execution_count": 26,
   "metadata": {},
   "outputs": [],
   "source": [
    "X = e_merged.drop(columns=['kwh'])\n",
    "y = e_merged.filter(items=['kwh'])"
   ]
  },
  {
   "cell_type": "code",
   "execution_count": 43,
   "metadata": {},
   "outputs": [
    {
     "data": {
      "text/plain": [
       "apn          inf\n",
       "kwh    23.293008\n",
       "dtype: float64"
      ]
     },
     "execution_count": 43,
     "metadata": {},
     "output_type": "execute_result"
    }
   ],
   "source": [
    "test = e_merged.filter(items=['apn', 'kwh'])\n",
    "np.mean(test[test['apn'] == '00601010210000'])"
   ]
  },
  {
   "cell_type": "code",
   "execution_count": 76,
   "metadata": {},
   "outputs": [
    {
     "name": "stdout",
     "output_type": "stream",
     "text": [
      "(580692, 9) (124434, 9) (124434, 9) (580692, 1) (124434, 1) (124434, 1)\n"
     ]
    }
   ],
   "source": [
    "min_max_scaler = preprocessing.MinMaxScaler()\n",
    "X_scaled = min_max_scaler.fit_transform(X)\n",
    "X_scaled = pd.DataFrame(X_scaled)\n",
    "X_scaled[0] = X['apn']\n",
    "\n",
    "X_train, X_val_and_test, y_train, y_val_and_test = train_test_split(X_scaled, y, test_size=0.3)\n",
    "X_val, X_test, y_val, y_test = train_test_split(X_val_and_test, y_val_and_test, test_size=0.5)\n",
    "\n",
    "train_apn = X_train[0]\n",
    "val_apn = X_val[0]\n",
    "test_apn = X_test[0]\n",
    "\n",
    "X_train = X_train.drop(columns=[0]).values\n",
    "X_val = X_val.drop(columns=[0]).values\n",
    "X_test = X_test.drop(columns=[0]).values\n",
    "\n",
    "print(X_train.shape, X_val.shape, X_test.shape, y_train.shape, y_val.shape, y_test.shape)"
   ]
  },
  {
   "cell_type": "code",
   "execution_count": 134,
   "metadata": {},
   "outputs": [
    {
     "data": {
      "text/plain": [
       "43.49157046515096"
      ]
     },
     "execution_count": 134,
     "metadata": {},
     "output_type": "execute_result"
    }
   ],
   "source": [
    "reg = GradientBoostingRegressor().fit(X_train, y_train.values.ravel())\n",
    "# mean_absolute_error(y_val, reg.predict(X_val))\n",
    "# reg.score(X_val, y_val)\n",
    "# model = Sequential([\n",
    "#     Dense(32, activation='relu', input_shape=(X_train.shape[1],)),\n",
    "#     Dense(32, activation='relu'),\n",
    "#     Dense(1, activation='sigmoid'),\n",
    "# ])\n",
    "\n",
    "# model.compile(optimizer='sgd',\n",
    "#               loss='mean_squared_error',\n",
    "#               metrics=['accuracy'])\n",
    "\n",
    "# hist = model.fit(X_train, y_train,\n",
    "#           batch_size=32, epochs=100,\n",
    "#           validation_data=(X_val, y_val))\n",
    "\n",
    "# reg.score(X_train, y_train)\n",
    "\n",
    "y_predicted = reg.predict(X_val)\n",
    "mean_absolute_error(y_val, y_predicted)"
   ]
  },
  {
   "cell_type": "code",
   "execution_count": 203,
   "metadata": {},
   "outputs": [],
   "source": [
    "y_predicted_summary = pd.concat([pd.DataFrame(y_predicted, columns=['kwh']), pd.DataFrame(np.array(val_apn), columns=['apn']).reset_index(drop=True)], axis=1)\n",
    "y_predicted_summary = y_predicted_summary.groupby(['apn']).agg({'kwh' : 'mean'}).rename(columns={\"kwh\": \"kwh_predicted\"})\n",
    "e_merged_summary = e_merged.groupby(['apn']).agg({'kwh' : 'mean', 'kwh_sim' : 'mean'})\n",
    "model_output = y_predicted_summary.merge(e_merged_summary, on=['apn'], how='left')\n",
    "model_output = model_output[['kwh_sim', 'kwh_predicted', 'kwh']]"
   ]
  },
  {
   "cell_type": "code",
   "execution_count": 217,
   "metadata": {},
   "outputs": [
    {
     "data": {
      "text/plain": [
       "<matplotlib.collections.PathCollection at 0x16440b8feb0>"
      ]
     },
     "execution_count": 217,
     "metadata": {},
     "output_type": "execute_result"
    },
    {
     "data": {
      "image/png": "[encoded data removed]",
      "text/plain": [
       "<Figure size 432x288 with 1 Axes>"
      ]
     },
     "metadata": {
      "needs_background": "light"
     },
     "output_type": "display_data"
    }
   ],
   "source": [
    "plt.scatter(range(0, 32), model_output['kwh_sim'])"
   ]
  },
  {
   "cell_type": "code",
   "execution_count": 228,
   "metadata": {},
   "outputs": [
    {
     "data": {
      "text/html": [
       "<div>\n",
       "<style scoped>\n",
       "    .dataframe tbody tr th:only-of-type {\n",
       "        vertical-align: middle;\n",
       "    }\n",
       "\n",
       "    .dataframe tbody tr th {\n",
       "        vertical-align: top;\n",
       "    }\n",
       "\n",
       "    .dataframe thead th {\n",
       "        text-align: right;\n",
       "    }\n",
       "</style>\n",
       "<table border=\"1\" class=\"dataframe\">\n",
       "  <thead>\n",
       "    <tr style=\"text-align: right;\">\n",
       "      <th></th>\n",
       "      <th>kwh</th>\n",
       "    </tr>\n",
       "  </thead>\n",
       "  <tbody>\n",
       "    <tr>\n",
       "      <th>0</th>\n",
       "      <td>6</td>\n",
       "    </tr>\n",
       "    <tr>\n",
       "      <th>1</th>\n",
       "      <td>6</td>\n",
       "    </tr>\n",
       "    <tr>\n",
       "      <th>2</th>\n",
       "      <td>7</td>\n",
       "    </tr>\n",
       "    <tr>\n",
       "      <th>3</th>\n",
       "      <td>6</td>\n",
       "    </tr>\n",
       "    <tr>\n",
       "      <th>4</th>\n",
       "      <td>6</td>\n",
       "    </tr>\n",
       "    <tr>\n",
       "      <th>...</th>\n",
       "      <td>...</td>\n",
       "    </tr>\n",
       "    <tr>\n",
       "      <th>829619</th>\n",
       "      <td>16</td>\n",
       "    </tr>\n",
       "    <tr>\n",
       "      <th>829620</th>\n",
       "      <td>15</td>\n",
       "    </tr>\n",
       "    <tr>\n",
       "      <th>829621</th>\n",
       "      <td>14</td>\n",
       "    </tr>\n",
       "    <tr>\n",
       "      <th>829622</th>\n",
       "      <td>12</td>\n",
       "    </tr>\n",
       "    <tr>\n",
       "      <th>829623</th>\n",
       "      <td>9</td>\n",
       "    </tr>\n",
       "  </tbody>\n",
       "</table>\n",
       "<p>829560 rows × 1 columns</p>\n",
       "</div>"
      ],
      "text/plain": [
       "        kwh\n",
       "0         6\n",
       "1         6\n",
       "2         7\n",
       "3         6\n",
       "4         6\n",
       "...     ...\n",
       "829619   16\n",
       "829620   15\n",
       "829621   14\n",
       "829622   12\n",
       "829623    9\n",
       "\n",
       "[829560 rows x 1 columns]"
      ]
     },
     "execution_count": 228,
     "metadata": {},
     "output_type": "execute_result"
    }
   ],
   "source": [
    "y"
   ]
  }
 ],
 "metadata": {
  "kernelspec": {
   "display_name": "Python 3",
   "language": "python",
   "name": "python3"
  },
  "language_info": {
   "codemirror_mode": {
    "name": "ipython",
    "version": 3
   },
   "file_extension": ".py",
   "mimetype": "text/x-python",
   "name": "python",
   "nbconvert_exporter": "python",
   "pygments_lexer": "ipython3",
   "version": "3.8.2"
  }
 },
 "nbformat": 4,
 "nbformat_minor": 2
}
