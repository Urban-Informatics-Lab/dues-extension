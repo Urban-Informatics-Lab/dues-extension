{
 "cells": [
  {
   "cell_type": "code",
   "execution_count": 19,
   "metadata": {},
   "outputs": [
    {
     "data": {
      "text/plain": [
       "<module 'dues_utilities' from 'C:\\\\Users\\\\benchoi\\\\Projects\\\\dues\\\\ml\\\\dues_utilities.py'>"
      ]
     },
     "execution_count": 19,
     "metadata": {},
     "output_type": "execute_result"
    }
   ],
   "source": [
    "import os\n",
    "import random\n",
    "import pyreadr\n",
    "\n",
    "import numpy as np\n",
    "import pandas as pd\n",
    "\n",
    "from sklearn import preprocessing\n",
    "from sklearn.linear_model import LinearRegression\n",
    "from sklearn.model_selection import GridSearchCV\n",
    "from sklearn.neighbors import KNeighborsRegressor\n",
    "\n",
    "import keras\n",
    "from keras.models import Sequential\n",
    "from keras.optimizers import SGD\n",
    "from keras.layers import Dense, LSTM, TimeDistributed, Dropout, Conv1D, MaxPooling1D, Flatten, RepeatVector\n",
    "from keras.callbacks import EarlyStopping\n",
    "import tensorflow as tf\n",
    "\n",
    "import dues_utilities as utils\n",
    "import matplotlib.pyplot as plt\n",
    "\n",
    "import importlib\n",
    "importlib.reload(utils)"
   ]
  },
  {
   "cell_type": "code",
   "execution_count": 20,
   "metadata": {},
   "outputs": [],
   "source": [
    "# Number of timesteps before 't' model uses in each prediction step\n",
    "timesteps = 24\n",
    "\n",
    "# Additional Parameters\n",
    "add_context = True # whether all sim or just relevant sim data is given at each prediciton step\n",
    "num_targets = 29 # number of buildings\n",
    "verbose = 0 # controls verbosity of output during training\n",
    "N = 5 # number of times to repreat each experiment (and average results across)\n",
    "\n",
    "# Define queries for each fold\n",
    "folds = utils.get_folds(3)\n",
    "\n",
    "# Callback Functions\n",
    "callbacks = []\n",
    "callbacks.append(EarlyStopping(patience=2))"
   ]
  },
  {
   "cell_type": "code",
   "execution_count": 21,
   "metadata": {},
   "outputs": [
    {
     "name": "stdout",
     "output_type": "stream",
     "text": [
      "Retrieving DUE-S Energy Data...\n"
     ]
    }
   ],
   "source": [
    "# Read data formatted by R scripts\n",
    "\n",
    "PATH_ENERGY_BASELINE = \"../data/all/building_energy_retrofit_baseline.csv\"\n",
    "PATH_ENERGY_ACTUAL_STATIONARY = \"../data/building_energy_actual_stationary.csv\"\n",
    "\n",
    "energy_dtype = {\n",
    "    'apn': str, \n",
    "    'year': np.float32, \n",
    "    'month': np.float32, \n",
    "    'day': np.float32, \n",
    "    'hour': np.float32, \n",
    "    'kwh': np.float32\n",
    "}\n",
    "\n",
    "energy_retrofit_baseline = pd.read_csv(PATH_ENERGY_BASELINE, dtype=energy_dtype)\n",
    "energy_actual = pd.read_csv(PATH_ENERGY_ACTUAL_STATIONARY, dtype=energy_dtype)\n",
    "\n",
    "# Combined simulation and observed data into properly formatted dataframe\n",
    "energy = utils.get_energy_df(\n",
    "        energy_retrofit_baseline, \n",
    "        energy_actual, \n",
    "        one_hot=False, \n",
    "        temporal_scale='hour', \n",
    "        spatial_scale='building',\n",
    "        add_context=add_context\n",
    "    )"
   ]
  },
  {
   "cell_type": "markdown",
   "metadata": {},
   "source": [
    "## Supervised Experiments"
   ]
  },
  {
   "cell_type": "code",
   "execution_count": null,
   "metadata": {
    "scrolled": true
   },
   "outputs": [],
   "source": [
    "# Query for train, val, test split\n",
    "train_folds, val_folds, test_folds = utils.make_supervised_folds(folds, energy, timesteps, None)\n",
    "n_features = train_folds[0][0].shape[-1]"
   ]
  },
  {
   "cell_type": "markdown",
   "metadata": {},
   "source": [
    "### Linear Regression"
   ]
  },
  {
   "cell_type": "code",
   "execution_count": null,
   "metadata": {},
   "outputs": [],
   "source": [
    "lr_model = LinearRegression()\n",
    "\n",
    "metrics = utils.walk_forward_cv(lr_model, train_folds, val_folds, test_folds, simple=True)\n",
    "\n",
    "utils.print_overall_metrics(metrics)\n",
    "\n",
    "# Overall Validation:\n",
    "# MAPE: 189.93959824244183\n",
    "# MSE: 9141.97998046875\n",
    "# CV(RMSE): 55.47295276815662\n",
    "# MBE: -2.020330448945363\n",
    "\n",
    "# Overall Test:\n",
    "# MAPE: 189.31085268656415\n",
    "# MSE: 8597.76416015625\n",
    "# CV(RMSE): 54.17478953866275\n",
    "# MBE: -1.8855419158935547"
   ]
  },
  {
   "cell_type": "markdown",
   "metadata": {},
   "source": [
    "### KNN"
   ]
  },
  {
   "cell_type": "code",
   "execution_count": null,
   "metadata": {},
   "outputs": [],
   "source": [
    "knn_model = KNeighborsRegressor(n_neighbors=1)\n",
    "\n",
    "metrics = utils.walk_forward_cv(knn_model, train_folds, val_folds, test_folds, simple=True)\n",
    "\n",
    "utils.print_overall_metrics(metrics)\n",
    "\n",
    "# Overall Validation:\n",
    "# MAPE: 36.308494955301285\n",
    "# MSE: 7894.553466796875\n",
    "# CV(RMSE): 50.844112055883855\n",
    "# MBE: 15.018418371677399\n",
    "\n",
    "# Overall Test:\n",
    "# MAPE: 35.82461327314377\n",
    "# MSE: 5369.8382568359375\n",
    "# CV(RMSE): 42.84330763067136\n",
    "# MBE: 4.418466746807098"
   ]
  },
  {
   "cell_type": "markdown",
   "metadata": {},
   "source": [
    "### ANN"
   ]
  },
  {
   "cell_type": "code",
   "execution_count": null,
   "metadata": {},
   "outputs": [],
   "source": [
    "ann_model = Sequential()\n",
    "ann_model.add(Dense(8, activation='relu', input_shape = [n_features]))\n",
    "ann_model.add(Dense(1))\n",
    "\n",
    "metrics = utils.repeat_experiment(\n",
    "        ann_model, N,\n",
    "        train_folds, val_folds, test_folds, \n",
    "        callbacks, verbose, \n",
    "        model_name=\"ANN\"\n",
    "    )\n",
    "utils.print_overall_metrics(metrics)\n",
    "\n",
    "# Overall Validation:\n",
    "# MAPE: 38.00202697515488\n",
    "# MSE: 43097.4432800293\n",
    "# CV(RMSE): 117.60132177260635\n",
    "# MBE: -69.48708001375198\n",
    "\n",
    "# Overall Test:\n",
    "# MAPE: 40.03982916474342\n",
    "# MSE: 42431.93391723634\n",
    "# CV(RMSE): 117.8805092994159\n",
    "# MBE: -70.02141468524933"
   ]
  },
  {
   "cell_type": "markdown",
   "metadata": {},
   "source": [
    "#### Reshaping for Models with 3D Input\n",
    "\n"
   ]
  },
  {
   "cell_type": "code",
   "execution_count": null,
   "metadata": {},
   "outputs": [],
   "source": [
    "for idx, fold in enumerate(train_folds):\n",
    "    train_folds[idx] = (\n",
    "        np.dstack(\n",
    "            [\n",
    "                utils.reshape_for_lstm(train_folds[idx][0][:, :-num_targets], timesteps, df_name=\"Train\"),\n",
    "                np.repeat(train_folds[idx][0][:, -num_targets:][:, np.newaxis, :], timesteps, axis=1)\n",
    "            ]\n",
    "        ),\n",
    "        train_folds[idx][1]\n",
    "    )\n",
    "    val_folds[idx] = (\n",
    "        np.dstack(\n",
    "            [\n",
    "                utils.reshape_for_lstm(val_folds[idx][0][:, :-num_targets], timesteps, df_name=\"Val\"),\n",
    "                np.repeat(val_folds[idx][0][:, -num_targets:][:, np.newaxis, :], timesteps, axis=1)\n",
    "            ]\n",
    "        ),\n",
    "        val_folds[idx][1]\n",
    "    )\n",
    "    test_folds[idx] = (\n",
    "        np.dstack(\n",
    "            [\n",
    "                utils.reshape_for_lstm(test_folds[idx][0][:, :-num_targets], timesteps, df_name=\"Test\"),\n",
    "                np.repeat(test_folds[idx][0][:, -num_targets:][:, np.newaxis, :], timesteps, axis=1)\n",
    "            ]\n",
    "        ),\n",
    "        test_folds[idx][1]\n",
    "    )\n",
    "\n",
    "n_features = train_folds[0][0].shape[-1]"
   ]
  },
  {
   "cell_type": "markdown",
   "metadata": {},
   "source": [
    "### Vanilla LSTM"
   ]
  },
  {
   "cell_type": "code",
   "execution_count": null,
   "metadata": {
    "scrolled": true
   },
   "outputs": [],
   "source": [
    "lstm_model = Sequential()\n",
    "lstm_model.add(LSTM(8, input_shape = (timesteps, n_features)))\n",
    "lstm_model.add(Dense(32, activation='relu'))\n",
    "lstm_model.add(Dense(1))\n",
    "\n",
    "metrics = utils.repeat_experiment(\n",
    "        lstm_model, N,\n",
    "        train_folds, val_folds, test_folds, \n",
    "        callbacks, verbose, \n",
    "        model_name=\"Vanilla LSTM\"\n",
    "    )\n",
    "utils.print_overall_metrics(metrics)\n",
    "\n",
    "# Overall Validation:\n",
    "# MAPE: 50.77106049284339\n",
    "# MSE: 9434.811126708984\n",
    "# CV(RMSE): 54.157817864135325\n",
    "# MBE: -14.903981592878699\n",
    "\n",
    "# Overall Test:\n",
    "# MAPE: 42.56542481482029\n",
    "# MSE: 8869.950701904296\n",
    "# CV(RMSE): 54.161317168255835\n",
    "# MBE: -20.77920241802931"
   ]
  },
  {
   "cell_type": "markdown",
   "metadata": {},
   "source": [
    "### CNN"
   ]
  },
  {
   "cell_type": "code",
   "execution_count": null,
   "metadata": {},
   "outputs": [],
   "source": [
    "cnn_model = Sequential()\n",
    "cnn_model.add(Conv1D(8, kernel_size=2, input_shape = (timesteps, n_features)))\n",
    "cnn_model.add(Flatten())\n",
    "cnn_model.add(Dense(32, activation='relu'))\n",
    "cnn_model.add(Dense(1))\n",
    "\n",
    "metrics = utils.repeat_experiment(\n",
    "        cnn_model, N,\n",
    "        train_folds, val_folds, test_folds, \n",
    "        callbacks, verbose, \n",
    "        model_name=\"CNN\"\n",
    "    )\n",
    "utils.print_overall_metrics(metrics)\n",
    "\n",
    "# Overall Validation:\n",
    "# MAPE: 39.318471290171146\n",
    "# MSE: 8778.81907043457\n",
    "# CV(RMSE): 54.12282267014075\n",
    "# MBE: -17.353715103864673\n",
    "\n",
    "# Overall Test:\n",
    "# MAPE: 41.622185446321964\n",
    "# MSE: 8367.039208984375\n",
    "# CV(RMSE): 53.45222762279509\n",
    "# MBE: -20.648522400856017"
   ]
  },
  {
   "cell_type": "markdown",
   "metadata": {},
   "source": [
    "## Sequence Experiments"
   ]
  },
  {
   "cell_type": "code",
   "execution_count": 22,
   "metadata": {},
   "outputs": [
    {
     "name": "stdout",
     "output_type": "stream",
     "text": [
      "Retrieving DUE-S Energy Data...\n",
      "Processing Fold #1...\n",
      "Train: (5220, 24, 58) (5220, 24, 1)\n",
      "Val: (5307, 24, 58) (5307, 24, 1)\n",
      "Test: (5220, 24, 58) (5220, 24, 1)\n",
      "Processing Fold #2...\n",
      "Train: (10556, 24, 58) (10556, 24, 1)\n",
      "Val: (5220, 24, 58) (5220, 24, 1)\n",
      "Test: (5307, 24, 58) (5307, 24, 1)\n",
      "Processing Fold #3...\n",
      "Train: (15805, 24, 58) (15805, 24, 1)\n",
      "Val: (5307, 24, 58) (5307, 24, 1)\n",
      "Test: (10556, 24, 58) (10556, 24, 1)\n"
     ]
    }
   ],
   "source": [
    "energy = utils.get_energy_df(\n",
    "        energy_retrofit_baseline, \n",
    "        energy_actual, \n",
    "        one_hot=False, \n",
    "        temporal_scale='hour', \n",
    "        spatial_scale='building', \n",
    "        add_context=add_context\n",
    "    )\n",
    "\n",
    "train_folds, val_folds, test_folds = utils.make_seq_folds(folds, energy, timesteps, scalers=None)\n",
    "\n",
    "n_features = train_folds[0][0].shape[-1]\n",
    "    \n",
    "val_agg_ref = []\n",
    "test_agg_ref = []\n",
    "\n",
    "for idx, fold in enumerate(folds):\n",
    "    val_agg_ref.append(utils.equalize_timesteps(energy, fold[1], timesteps, one_hot=False).filter(items=['apn', 'year', 'month', 'day', 'hour', 'kwh_actual']))\n",
    "    val_agg_ref[idx]['kwh_actual'] = val_agg_ref[idx]['kwh_actual'].apply(lambda x: np.where(x < 1, 1, x))\n",
    "    test_agg_ref.append(utils.equalize_timesteps(energy, fold[2], timesteps, one_hot=False).filter(items=['apn', 'year', 'month', 'day', 'hour', 'kwh_actual']))\n",
    "    test_agg_ref[idx]['kwh_actual'] = test_agg_ref[idx]['kwh_actual'].apply(lambda x: np.where(x < 1, 1, x))"
   ]
  },
  {
   "cell_type": "markdown",
   "metadata": {},
   "source": [
    "### Vanilla LSTM"
   ]
  },
  {
   "cell_type": "code",
   "execution_count": null,
   "metadata": {
    "scrolled": true
   },
   "outputs": [
    {
     "name": "stdout",
     "output_type": "stream",
     "text": [
      "-----Experiment #1-----\n",
      "\n",
      "Fold #1\n",
      "Model: \"sequential_12\"\n",
      "_________________________________________________________________\n",
      "Layer (type)                 Output Shape              Param #   \n",
      "=================================================================\n",
      "lstm_23 (LSTM)               (None, 24, 64)            31488     \n",
      "_________________________________________________________________\n",
      "lstm_24 (LSTM)               (None, 24, 64)            33024     \n",
      "_________________________________________________________________\n",
      "time_distributed_23 (TimeDis (None, 24, 32)            2080      \n",
      "_________________________________________________________________\n",
      "time_distributed_24 (TimeDis (None, 24, 1)             33        \n",
      "=================================================================\n",
      "Total params: 66,625\n",
      "Trainable params: 66,625\n",
      "Non-trainable params: 0\n",
      "_________________________________________________________________\n"
     ]
    },
    {
     "data": {
      "image/png": "[encoded data removed]",
      "text/plain": [
       "<Figure size 432x288 with 1 Axes>"
      ]
     },
     "metadata": {
      "needs_background": "light"
     },
     "output_type": "display_data"
    },
    {
     "name": "stdout",
     "output_type": "stream",
     "text": [
      "\n",
      "Fold #2\n"
     ]
    },
    {
     "data": {
      "image/png": "[encoded data removed]",
      "text/plain": [
       "<Figure size 432x288 with 1 Axes>"
      ]
     },
     "metadata": {
      "needs_background": "light"
     },
     "output_type": "display_data"
    },
    {
     "name": "stdout",
     "output_type": "stream",
     "text": [
      "\n",
      "Fold #3\n"
     ]
    },
    {
     "data": {
      "image/png": "[encoded data removed]",
      "text/plain": [
       "<Figure size 432x288 with 1 Axes>"
      ]
     },
     "metadata": {
      "needs_background": "light"
     },
     "output_type": "display_data"
    },
    {
     "name": "stdout",
     "output_type": "stream",
     "text": [
      "-----Experiment #2-----\n",
      "\n",
      "Fold #1\n",
      "Model: \"sequential_12\"\n",
      "_________________________________________________________________\n",
      "Layer (type)                 Output Shape              Param #   \n",
      "=================================================================\n",
      "lstm_23 (LSTM)               (None, 24, 64)            31488     \n",
      "_________________________________________________________________\n",
      "lstm_24 (LSTM)               (None, 24, 64)            33024     \n",
      "_________________________________________________________________\n",
      "time_distributed_23 (TimeDis (None, 24, 32)            2080      \n",
      "_________________________________________________________________\n",
      "time_distributed_24 (TimeDis (None, 24, 1)             33        \n",
      "=================================================================\n",
      "Total params: 66,625\n",
      "Trainable params: 66,625\n",
      "Non-trainable params: 0\n",
      "_________________________________________________________________\n"
     ]
    },
    {
     "data": {
      "image/png": "[encoded data removed]",
      "text/plain": [
       "<Figure size 432x288 with 1 Axes>"
      ]
     },
     "metadata": {
      "needs_background": "light"
     },
     "output_type": "display_data"
    },
    {
     "name": "stdout",
     "output_type": "stream",
     "text": [
      "\n",
      "Fold #2\n"
     ]
    },
    {
     "data": {
      "image/png": "[encoded data removed]",
      "text/plain": [
       "<Figure size 432x288 with 1 Axes>"
      ]
     },
     "metadata": {
      "needs_background": "light"
     },
     "output_type": "display_data"
    },
    {
     "name": "stdout",
     "output_type": "stream",
     "text": [
      "\n",
      "Fold #3\n"
     ]
    },
    {
     "data": {
      "image/png": "[encoded data removed]",
      "text/plain": [
       "<Figure size 432x288 with 1 Axes>"
      ]
     },
     "metadata": {
      "needs_background": "light"
     },
     "output_type": "display_data"
    },
    {
     "name": "stdout",
     "output_type": "stream",
     "text": [
      "-----Experiment #3-----\n",
      "\n",
      "Fold #1\n",
      "Model: \"sequential_12\"\n",
      "_________________________________________________________________\n",
      "Layer (type)                 Output Shape              Param #   \n",
      "=================================================================\n",
      "lstm_23 (LSTM)               (None, 24, 64)            31488     \n",
      "_________________________________________________________________\n",
      "lstm_24 (LSTM)               (None, 24, 64)            33024     \n",
      "_________________________________________________________________\n",
      "time_distributed_23 (TimeDis (None, 24, 32)            2080      \n",
      "_________________________________________________________________\n",
      "time_distributed_24 (TimeDis (None, 24, 1)             33        \n",
      "=================================================================\n",
      "Total params: 66,625\n",
      "Trainable params: 66,625\n",
      "Non-trainable params: 0\n",
      "_________________________________________________________________\n"
     ]
    },
    {
     "data": {
      "image/png": "[encoded data removed]",
      "text/plain": [
       "<Figure size 432x288 with 1 Axes>"
      ]
     },
     "metadata": {
      "needs_background": "light"
     },
     "output_type": "display_data"
    },
    {
     "name": "stdout",
     "output_type": "stream",
     "text": [
      "\n",
      "Fold #2\n"
     ]
    },
    {
     "data": {
      "image/png": "[encoded data removed]",
      "text/plain": [
       "<Figure size 432x288 with 1 Axes>"
      ]
     },
     "metadata": {
      "needs_background": "light"
     },
     "output_type": "display_data"
    },
    {
     "name": "stdout",
     "output_type": "stream",
     "text": [
      "\n",
      "Fold #3\n"
     ]
    },
    {
     "data": {
      "image/png": "[encoded data removed]",
      "text/plain": [
       "<Figure size 432x288 with 1 Axes>"
      ]
     },
     "metadata": {
      "needs_background": "light"
     },
     "output_type": "display_data"
    },
    {
     "name": "stdout",
     "output_type": "stream",
     "text": [
      "-----Experiment #4-----\n",
      "\n",
      "Fold #1\n",
      "Model: \"sequential_12\"\n",
      "_________________________________________________________________\n",
      "Layer (type)                 Output Shape              Param #   \n",
      "=================================================================\n",
      "lstm_23 (LSTM)               (None, 24, 64)            31488     \n",
      "_________________________________________________________________\n",
      "lstm_24 (LSTM)               (None, 24, 64)            33024     \n",
      "_________________________________________________________________\n",
      "time_distributed_23 (TimeDis (None, 24, 32)            2080      \n",
      "_________________________________________________________________\n",
      "time_distributed_24 (TimeDis (None, 24, 1)             33        \n",
      "=================================================================\n",
      "Total params: 66,625\n",
      "Trainable params: 66,625\n",
      "Non-trainable params: 0\n",
      "_________________________________________________________________\n"
     ]
    }
   ],
   "source": [
    "lstm_model = Sequential()\n",
    "lstm_model.add(LSTM(64, input_shape=(timesteps, n_features), return_sequences=True))\n",
    "lstm_model.add(LSTM(64, return_sequences=True))\n",
    "lstm_model.add(TimeDistributed(Dense(32, activation='relu')))\n",
    "lstm_model.add(TimeDistributed(Dense(1)))\n",
    "\n",
    "metrics = utils.repeat_experiment(\n",
    "        lstm_model, N,\n",
    "        train_folds, val_folds, test_folds, \n",
    "        callbacks, verbose, \n",
    "        model_name=\"Sequential Vanilla LSTM\",\n",
    "        val_agg_df=val_agg_ref, test_agg_df=test_agg_ref\n",
    "    )\n",
    "\n",
    "print(metrics[0])\n",
    "print(metrics[1])"
   ]
  },
  {
   "cell_type": "code",
   "execution_count": null,
   "metadata": {},
   "outputs": [],
   "source": [
    "energy = utils.get_energy_df(\n",
    "        energy_retrofit_baseline, \n",
    "        energy_actual, \n",
    "        one_hot=False, \n",
    "        temporal_scale='hour', \n",
    "        spatial_scale='building', \n",
    "        add_context=False\n",
    "    )\n",
    "\n",
    "train_folds, val_folds, test_folds = utils.make_seq_folds(folds, energy, timesteps, scalers=None)\n",
    "\n",
    "n_features = train_folds[0][0].shape[-1]\n",
    "    \n",
    "val_agg_ref = []\n",
    "test_agg_ref = []\n",
    "\n",
    "for idx, fold in enumerate(folds):\n",
    "    val_agg_ref.append(utils.equalize_timesteps(energy, fold[1], timesteps, one_hot=False).filter(items=['apn', 'year', 'month', 'day', 'hour', 'kwh_actual']))\n",
    "    val_agg_ref[idx]['kwh_actual'] = val_agg_ref[idx]['kwh_actual'].apply(lambda x: np.where(x < 1, 1, x))\n",
    "    test_agg_ref.append(utils.equalize_timesteps(energy, fold[2], timesteps, one_hot=False).filter(items=['apn', 'year', 'month', 'day', 'hour', 'kwh_actual']))\n",
    "    test_agg_ref[idx]['kwh_actual'] = test_agg_ref[idx]['kwh_actual'].apply(lambda x: np.where(x < 1, 1, x))"
   ]
  },
  {
   "cell_type": "code",
   "execution_count": null,
   "metadata": {},
   "outputs": [],
   "source": [
    "# No Context Experiments\n",
    "\n",
    "context_model = lstm_model\n",
    "\n",
    "lstm_model = Sequential()\n",
    "lstm_model.add(LSTM(64, input_shape=(timesteps, n_features), return_sequences=True))\n",
    "lstm_model.add(LSTM(64, return_sequences=True))\n",
    "lstm_model.add(TimeDistributed(Dense(32, activation='relu')))\n",
    "lstm_model.add(TimeDistributed(Dense(1)))\n",
    "\n",
    "metrics = utils.repeat_experiment(\n",
    "        lstm_model, N,\n",
    "        train_folds, val_folds, test_folds, \n",
    "        callbacks, verbose, \n",
    "        model_name=\"Sequential Vanilla LSTM\",\n",
    "        val_agg_df=val_agg_ref, test_agg_df=test_agg_ref\n",
    "    )\n",
    "\n",
    "print(metrics[0])\n",
    "print(metrics[1])"
   ]
  },
  {
   "cell_type": "markdown",
   "metadata": {},
   "source": [
    "### Seq2Seq LSTM"
   ]
  },
  {
   "cell_type": "code",
   "execution_count": null,
   "metadata": {
    "scrolled": true
   },
   "outputs": [],
   "source": [
    "lstm_autoencoder_model = Sequential()\n",
    "lstm_autoencoder_model.add(LSTM(64, input_shape=(timesteps, n_features), return_sequences=False))\n",
    "lstm_autoencoder_model.add(RepeatVector(timesteps))\n",
    "lstm_autoencoder_model.add(LSTM(64, return_sequences=True))\n",
    "lstm_autoencoder_model.add(TimeDistributed(Dense(32, activation='relu')))\n",
    "lstm_autoencoder_model.add(TimeDistributed(Dense(1)))\n",
    "\n",
    "metrics = utils.repeat_experiment(\n",
    "        lstm_autoencoder_model, N,\n",
    "        train_folds, val_folds, test_folds, \n",
    "        callbacks, verbose, \n",
    "        model_name=\"Sequential Seq2Seq LSTM\",\n",
    "        val_agg_df=val_agg_ref, test_agg_df=test_agg_ref\n",
    "    )\n",
    "\n",
    "print(metrics[0])\n",
    "print(metrics[1])"
   ]
  },
  {
   "cell_type": "markdown",
   "metadata": {},
   "source": [
    "### CNN-LSTM"
   ]
  },
  {
   "cell_type": "code",
   "execution_count": null,
   "metadata": {
    "scrolled": false
   },
   "outputs": [],
   "source": [
    "cnn_lstm_model = Sequential()\n",
    "cnn_lstm_model.add(Conv1D(64, activation='relu', kernel_size=2, input_shape=(timesteps, n_features)))\n",
    "cnn_lstm_model.add(MaxPooling1D(pool_size=2))\n",
    "cnn_lstm_model.add(Flatten())\n",
    "cnn_lstm_model.add(RepeatVector(timesteps))\n",
    "cnn_lstm_model.add(LSTM(64, return_sequences=True))\n",
    "cnn_lstm_model.add(TimeDistributed(Dense(32, activation='relu')))\n",
    "cnn_lstm_model.add(TimeDistributed(Dense(1)))\n",
    "\n",
    "metrics = utils.repeat_experiment(\n",
    "        cnn_lstm_model, N,\n",
    "        train_folds, val_folds, test_folds, \n",
    "        callbacks, verbose, \n",
    "        model_name=\"Sequential CNN-LSTM\",\n",
    "        val_agg_df=val_agg_ref, test_agg_df=test_agg_ref\n",
    "    )\n",
    "\n",
    "print(metrics[0])\n",
    "print(metrics[1])"
   ]
  },
  {
   "cell_type": "markdown",
   "metadata": {},
   "source": [
    "## Retrofit Experiments"
   ]
  },
  {
   "cell_type": "code",
   "execution_count": null,
   "metadata": {},
   "outputs": [],
   "source": [
    "model = lstm_model\n",
    "\n",
    "PATH_RETROFIT_ROOT = \"../data/all/\"\n",
    "PATH_RETROFIT_OUTPUT = \"../data/output_retrofit/all_months/output_retrofit_all_mae.csv\"\n",
    "# PATH_RETROFIT_OUTPUT = \"../data/output_retrofit/all_months/output_retrofit_block_mae.csv\"\n",
    "# PATH_RETROFIT_OUTPUT = \"../data/output_retrofit/all_months/output_retrofit_old_mae.csv\"\n",
    "# PATH_RETROFIT_OUTPUT = \"../data/output_retrofit/all_months/output_retrofit_all_mae_no_context.csv\"\n",
    "# PATH_RETROFIT_OUTPUT = \"../data/output_retrofit/all_months/output_retrofit_block_mae_no_context.csv\"\n",
    "# PATH_RETROFIT_OUTPUT = \"../data/output_retrofit/all_months/output_retrofit_old_mae_no_context.csv\""
   ]
  },
  {
   "cell_type": "code",
   "execution_count": null,
   "metadata": {},
   "outputs": [],
   "source": [
    "PATH_ENERGY_FULL = PATH_RETROFIT_ROOT + \"building_energy_retrofit_full.csv\"\n",
    "PATH_ENERGY_LIGHT = PATH_RETROFIT_ROOT + \"building_energy_retrofit_light.csv\"\n",
    "PATH_ENERGY_WINDOW = PATH_RETROFIT_ROOT + \"building_energy_retrofit_window.csv\"\n",
    "\n",
    "energy_retrofit_full = pd.read_csv(PATH_ENERGY_FULL, dtype=energy_dtype)\n",
    "energy_retrofit_light = pd.read_csv(PATH_ENERGY_LIGHT, dtype=energy_dtype)\n",
    "energy_retrofit_window = pd.read_csv(PATH_ENERGY_WINDOW, dtype=energy_dtype)\n",
    "\n",
    "energy_retrofits = utils.equalize_timesteps(energy, folds[-1][-1], timesteps, one_hot=False)\n",
    "energy_retrofits = energy_retrofits.filter(items=['apn', 'year', 'month', 'day', 'hour', 'kwh_actual'])\n",
    "energy_retrofits['kwh_actual'] = energy_retrofits['kwh_actual'].apply(lambda x: np.where(x < 1, 1, x))\n",
    "\n",
    "scalers = utils.make_seq_folds(folds, energy, timesteps, scalers=None, get_scalers=True)\n",
    "\n",
    "energy_full = utils.get_energy_df(energy_retrofit_full, energy_actual, one_hot=False, temporal_scale='hour', spatial_scale='building', add_context=add_context)\n",
    "full_train_folds, full_val_folds, full_test_folds = utils.make_seq_folds(folds, energy_full, timesteps, scalers)\n",
    "\n",
    "energy_light = utils.get_energy_df(energy_retrofit_light, energy_actual, one_hot=False, temporal_scale='hour', spatial_scale='building', add_context=add_context)\n",
    "light_train_folds, light_val_folds, light_test_folds = utils.make_seq_folds(folds, energy_light, timesteps, scalers)\n",
    "\n",
    "energy_window = utils.get_energy_df(energy_retrofit_window, energy_actual, one_hot=False, temporal_scale='hour', spatial_scale='building', add_context=add_context)\n",
    "window_train_folds, window_val_folds, window_test_folds = utils.make_seq_folds(folds, energy_window, timesteps, scalers)\n",
    "\n",
    "energy_retrofits['kwh_baseline'] = model.predict(test_folds[-1][0]).ravel()\n",
    "energy_retrofits['kwh_full'] = model.predict(full_test_folds[-1][0]).ravel()\n",
    "energy_retrofits['kwh_light'] = model.predict(light_test_folds[-1][0]).ravel()\n",
    "energy_retrofits['kwh_window'] = model.predict(window_test_folds[-1][0]).ravel()"
   ]
  },
  {
   "cell_type": "code",
   "execution_count": null,
   "metadata": {},
   "outputs": [],
   "source": [
    "# energy_retrofits.to_csv(PATH_RETROFIT_OUTPUT, index=False)"
   ]
  },
  {
   "cell_type": "code",
   "execution_count": null,
   "metadata": {},
   "outputs": [],
   "source": [
    "# Todos:\n",
    "\n",
    "# [X] Investigate exploding gradients, using clip values for gradient clipping\n",
    "# [X] Visualize per building error distribution\n",
    "# [X] Implement additional benchmarks (e.g. SVR?)\n",
    "# [X] Multiple temporal and spatial scale analysis\n",
    "# [X] See what happens with retrofits\n",
    "# [ ] Experiment with subsetting to optimize for cumulative urban-scale reductions in energy/CO2 consumption\n",
    "# [ ] Investigate domain transfer techniques\n",
    "# [ ] Investigate visualization strategies for LSTM and Conv Layers"
   ]
  }
 ],
 "metadata": {
  "kernelspec": {
   "display_name": "Python 3",
   "language": "python",
   "name": "python3"
  },
  "language_info": {
   "codemirror_mode": {
    "name": "ipython",
    "version": 3
   },
   "file_extension": ".py",
   "mimetype": "text/x-python",
   "name": "python",
   "nbconvert_exporter": "python",
   "pygments_lexer": "ipython3",
   "version": "3.8.2"
  }
 },
 "nbformat": 4,
 "nbformat_minor": 4
}
